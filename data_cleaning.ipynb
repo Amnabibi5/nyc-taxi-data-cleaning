{
  "nbformat": 4,
  "nbformat_minor": 0,
  "metadata": {
    "colab": {
      "provenance": [],
      "authorship_tag": "ABX9TyMHRmdZLrpTX+1VEuwccwTE",
      "include_colab_link": true
    },
    "kernelspec": {
      "name": "python3",
      "display_name": "Python 3"
    },
    "language_info": {
      "name": "python"
    }
  },
  "cells": [
    {
      "cell_type": "markdown",
      "metadata": {
        "id": "view-in-github",
        "colab_type": "text"
      },
      "source": [
        "<a href=\"https://colab.research.google.com/github/Amnabibi5/nyc-taxi-data-cleaning/blob/main/data_cleaning.ipynb\" target=\"_parent\"><img src=\"https://colab.research.google.com/assets/colab-badge.svg\" alt=\"Open In Colab\"/></a>"
      ]
    },
    {
      "cell_type": "markdown",
      "source": [
        "## Cleaning NYC Taxi Trip Data for Machine Learning – Step-by-Step in **Python**"
      ],
      "metadata": {
        "id": "q_jXOD5mbVCZ"
      }
    },
    {
      "cell_type": "markdown",
      "source": [
        "# NYC Taxi Data Cleaning for Machine Learning\n",
        "\n",
        "This notebook demonstrates how to clean and prepare real-world taxi trip data for machine learning tasks. We’ll walk through:\n",
        "\n",
        "- Removing duplicates and missing values  \n",
        "- Fixing datetime formats and calculating trip duration  \n",
        "- Handling outliers  \n",
        "- Encoding categorical variables  \n",
        "- Saving a clean dataset for modeling\n",
        "\n",
        "Dataset: NYC Yellow Taxi Trip Records (2017)  \n",
        "Source: NYC Open Data\n"
      ],
      "metadata": {
        "id": "oRJFgG7xbpBl"
      }
    },
    {
      "cell_type": "markdown",
      "source": [
        "# **Imports & Setup**"
      ],
      "metadata": {
        "id": "DBJDKjFob5pD"
      }
    },
    {
      "cell_type": "code",
      "source": [
        "import pandas as pd\n",
        "import numpy as np\n",
        "import matplotlib.pyplot as plt\n",
        "import seaborn as sns\n",
        "\n",
        "pd.set_option('display.max_columns', None)\n",
        "sns.set(style=\"whitegrid\")\n"
      ],
      "metadata": {
        "id": "yTj9xJ5Wbs81"
      },
      "execution_count": 1,
      "outputs": []
    },
    {
      "cell_type": "markdown",
      "source": [
        "# **Load & Inspect Data**\n",
        "## Step 1: Load and Inspect the Raw Dataset\n",
        "\n",
        "We start by loading the raw CSV and inspecting its structure, missing values, and basic statistics.\n",
        "\n"
      ],
      "metadata": {
        "id": "fhhhqcyOb-DL"
      }
    },
    {
      "cell_type": "code",
      "source": [
        "df = pd.read_csv('/content/2017_Yellow_Taxi_Trip_Data.csv', low_memory=False)\n",
        "df.shape, df.head()"
      ],
      "metadata": {
        "colab": {
          "base_uri": "https://localhost:8080/"
        },
        "id": "WbRGXghXcDLM",
        "outputId": "ce4b185f-ca11-4c9f-c687-7e4938273b64"
      },
      "execution_count": 3,
      "outputs": [
        {
          "output_type": "execute_result",
          "data": {
            "text/plain": [
              "((22699, 18),\n",
              "    Unnamed: 0  VendorID    tpep_pickup_datetime   tpep_dropoff_datetime  \\\n",
              " 0    24870114         2   03/25/2017 8:55:43 AM   03/25/2017 9:09:47 AM   \n",
              " 1    35634249         1   04/11/2017 2:53:28 PM   04/11/2017 3:19:58 PM   \n",
              " 2   106203690         1   12/15/2017 7:26:56 AM   12/15/2017 7:34:08 AM   \n",
              " 3    38942136         2   05/07/2017 1:17:59 PM   05/07/2017 1:48:14 PM   \n",
              " 4    30841670         2  04/15/2017 11:32:20 PM  04/15/2017 11:49:03 PM   \n",
              " \n",
              "    passenger_count  trip_distance  RatecodeID store_and_fwd_flag  \\\n",
              " 0                6           3.34           1                  N   \n",
              " 1                1           1.80           1                  N   \n",
              " 2                1           1.00           1                  N   \n",
              " 3                1           3.70           1                  N   \n",
              " 4                1           4.37           1                  N   \n",
              " \n",
              "    PULocationID  DOLocationID  payment_type  fare_amount  extra  mta_tax  \\\n",
              " 0           100           231             1         13.0    0.0      0.5   \n",
              " 1           186            43             1         16.0    0.0      0.5   \n",
              " 2           262           236             1          6.5    0.0      0.5   \n",
              " 3           188            97             1         20.5    0.0      0.5   \n",
              " 4             4           112             2         16.5    0.5      0.5   \n",
              " \n",
              "    tip_amount  tolls_amount  improvement_surcharge  total_amount  \n",
              " 0        2.76           0.0                    0.3         16.56  \n",
              " 1        4.00           0.0                    0.3         20.80  \n",
              " 2        1.45           0.0                    0.3          8.75  \n",
              " 3        6.39           0.0                    0.3         27.69  \n",
              " 4        0.00           0.0                    0.3         17.80  )"
            ]
          },
          "metadata": {},
          "execution_count": 3
        }
      ]
    },
    {
      "cell_type": "markdown",
      "source": [
        "# **Drop Duplicates & Handle Missing Values**\n",
        "## Step 2: Drop Duplicates and Handle Missing Values\n",
        "\n",
        "We remove duplicate rows and drop entries missing critical fields like timestamps or fare amount.\n"
      ],
      "metadata": {
        "id": "OBqUpB2rctFs"
      }
    },
    {
      "cell_type": "code",
      "source": [
        "df.drop_duplicates(inplace=True)\n",
        "df.dropna(subset=['tpep_pickup_datetime', 'tpep_dropoff_datetime', 'fare_amount'], inplace=True)\n",
        "df['passenger_count'] = df['passenger_count'].fillna(df['passenger_count'].median())\n",
        "\n"
      ],
      "metadata": {
        "id": "CK6xeFSNc8SF"
      },
      "execution_count": 5,
      "outputs": []
    },
    {
      "cell_type": "markdown",
      "source": [
        "# **Convert Timestamps & Engineer Duration**\n",
        "## Step 3: Convert Timestamps and Engineer Trip Duration\n",
        "\n",
        "We convert pickup and dropoff times to datetime format and calculate trip duration in seconds.\n"
      ],
      "metadata": {
        "id": "g7LO4JepdHiV"
      }
    },
    {
      "cell_type": "markdown",
      "source": [
        "# **Datetime & Duration**"
      ],
      "metadata": {
        "id": "hEhOea4teE2o"
      }
    },
    {
      "cell_type": "code",
      "source": [
        "df['tpep_pickup_datetime'] = pd.to_datetime(df['tpep_pickup_datetime'], errors='coerce')\n",
        "df['tpep_dropoff_datetime'] = pd.to_datetime(df['tpep_dropoff_datetime'], errors='coerce')\n",
        "df['trip_duration'] = (df['tpep_dropoff_datetime'] - df['tpep_pickup_datetime']).dt.total_seconds()\n",
        "df = df[df['trip_duration'] > 0]\n"
      ],
      "metadata": {
        "id": "CKh09V-7d6Ua"
      },
      "execution_count": 6,
      "outputs": []
    },
    {
      "cell_type": "markdown",
      "source": [
        "# **Remove Outliers**\n",
        "## Step 4: Remove Outliers\n",
        "\n",
        "We filter out unrealistic values in trip distance and fare amount to improve model quality.\n",
        "Outlier Filtering"
      ],
      "metadata": {
        "id": "sAAyu7vWejDZ"
      }
    },
    {
      "cell_type": "code",
      "source": [
        "df = df[(df['trip_distance'] > 0) & (df['trip_distance'] < 100)]\n",
        "df = df[(df['fare_amount'] > 0) & (df['fare_amount'] < 500)]\n"
      ],
      "metadata": {
        "id": "vDfuASwJed8a"
      },
      "execution_count": 7,
      "outputs": []
    },
    {
      "cell_type": "markdown",
      "source": [
        "# **Encode Categorical Variables**\n",
        "## Step 5: Encode Categorical Variables\n",
        "\n",
        "We convert string-based flags and payment types into numerical format for ML compatibility.\n"
      ],
      "metadata": {
        "id": "mMyVoeUfe41h"
      }
    },
    {
      "cell_type": "code",
      "source": [
        "df['store_and_fwd_flag'] = df['store_and_fwd_flag'].map({'Y': 1, 'N': 0})\n",
        "df['payment_type'] = df['payment_type'].astype('category').cat.codes\n"
      ],
      "metadata": {
        "id": "sNn3A1uve_TB"
      },
      "execution_count": 8,
      "outputs": []
    },
    {
      "cell_type": "markdown",
      "source": [
        "# **Visual Insights**"
      ],
      "metadata": {
        "id": "U6FqSjT5fWMu"
      }
    },
    {
      "cell_type": "code",
      "source": [
        "plt.figure(figsize=(10,6))\n",
        "sns.histplot(df['trip_duration'], bins=50, kde=True)\n",
        "plt.title(\"Trip Duration Distribution\")\n",
        "plt.xlabel(\"Duration (seconds)\")\n",
        "plt.ylabel(\"Frequency\")\n",
        "plt.show()"
      ],
      "metadata": {
        "colab": {
          "base_uri": "https://localhost:8080/",
          "height": 573
        },
        "id": "Tz7ah7SufYxJ",
        "outputId": "e21cbce8-e467-4150-b0f8-38e1109888ec"
      },
      "execution_count": 9,
      "outputs": [
        {
          "output_type": "display_data",
          "data": {
            "text/plain": [
              "<Figure size 1000x600 with 1 Axes>"
            ],
            "image/png": "[encoded data removed]"
          },
          "metadata": {}
        }
      ]
    },
    {
      "cell_type": "markdown",
      "source": [
        "# **Save Cleaned Dataset**\n",
        "## Step 6: Save Cleaned Dataset\n",
        "\n",
        "We export the cleaned data to a CSV file for use in machine learning models.\n"
      ],
      "metadata": {
        "id": "gJ4oX1rjfFrv"
      }
    },
    {
      "cell_type": "code",
      "source": [
        "df.to_csv('/content/nyc_taxi_cleaned.csv', index=False)\n",
        "print(\"✅ Cleaned dataset saved.\")\n"
      ],
      "metadata": {
        "colab": {
          "base_uri": "https://localhost:8080/"
        },
        "id": "f0BxVYIKfMAA",
        "outputId": "0c85a2af-ff65-4ccc-ee22-a8fceff25c52"
      },
      "execution_count": 10,
      "outputs": [
        {
          "output_type": "stream",
          "name": "stdout",
          "text": [
            "✅ Cleaned dataset saved.\n"
          ]
        }
      ]
    }
  ]
}